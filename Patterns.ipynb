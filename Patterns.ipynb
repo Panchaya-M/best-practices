{
  "nbformat": 4,
  "nbformat_minor": 0,
  "metadata": {
    "colab": {
      "name": "Patterns.ipynb",
      "provenance": [],
      "collapsed_sections": []
    },
    "kernelspec": {
      "name": "python3",
      "display_name": "Python 3"
    },
    "language_info": {
      "name": "python"
    }
  },
  "cells": [
    {
      "cell_type": "code",
      "metadata": {
        "id": "3VQlO-rBIWQZ",
        "colab": {
          "base_uri": "https://localhost:8080/"
        },
        "outputId": "959d0f98-8bc0-49f5-9df9-8e6f5ea6ae03"
      },
      "source": [
        "for i in range(1,60):\n",
        "  if(i%20 == 0): print()\n",
        "  if(i%3 == 0 and i%5 == 0): \n",
        "    print(\"FizzBuzz\", end=\" \")\n",
        "  elif(i%3 == 0):\n",
        "    print(\"Fizz\", end=\" \")\n",
        "  elif(i%5 == 0):\n",
        "    print(\"Buzz\", end= \" \")\n",
        "  else: print(i, end=\" \")"
      ],
      "execution_count": null,
      "outputs": [
        {
          "output_type": "stream",
          "name": "stdout",
          "text": [
            "1 2 Fizz 4 Buzz Fizz 7 8 Fizz Buzz 11 Fizz 13 14 FizzBuzz 16 17 Fizz 19 \n",
            "Buzz Fizz 22 23 Fizz Buzz 26 Fizz 28 29 FizzBuzz 31 32 Fizz 34 Buzz Fizz 37 38 Fizz \n",
            "Buzz 41 Fizz 43 44 FizzBuzz 46 47 Fizz 49 Buzz Fizz 52 53 Fizz Buzz 56 Fizz 58 59 "
          ]
        }
      ]
    },
    {
      "cell_type": "code",
      "metadata": {
        "colab": {
          "base_uri": "https://localhost:8080/"
        },
        "id": "Qu9zrYHtC__q",
        "outputId": "a6ff836e-9f63-4f61-dcda-066d31bfe2f8"
      },
      "source": [
        "year = int(input(\"Enter leap years: \"))\n",
        "if (year % 400 == 0): \n",
        "  print(year, \"-> true\")\n",
        "elif (year % 400 != 0 and year % 100 != 0):\n",
        "  if(year % 4 == 0): \n",
        "    print(year, \"-> true\")\n",
        "  else: print(year,\"-> false\")\n",
        "\n",
        "  \n"
      ],
      "execution_count": null,
      "outputs": [
        {
          "output_type": "stream",
          "name": "stdout",
          "text": [
            "Enter leap years: 2012\n",
            "2012 -> true\n"
          ]
        }
      ]
    },
    {
      "cell_type": "code",
      "metadata": {
        "colab": {
          "base_uri": "https://localhost:8080/"
        },
        "id": "8wo_ZafvIcuu",
        "outputId": "06fd7799-6653-40ed-a24c-eda3b639efae"
      },
      "source": [
        "rows = int(input(\"Enter number of rows: \"))\n",
        "\n",
        "for i in range(rows):\n",
        "    for j in range(i+1):\n",
        "        print(\"* \", end=\"\")\n",
        "    print(\"\\r\")"
      ],
      "execution_count": null,
      "outputs": [
        {
          "output_type": "stream",
          "name": "stdout",
          "text": [
            "Enter number of rows: 4\n",
            "* \n",
            "* * \n",
            "* * * \n",
            "* * * * \n"
          ]
        }
      ]
    },
    {
      "cell_type": "code",
      "metadata": {
        "colab": {
          "base_uri": "https://localhost:8080/"
        },
        "id": "bCEC9zYjJWQ3",
        "outputId": "38859508-1dad-4b04-c7d7-dc4d58e69b8a"
      },
      "source": [
        "rows = int(input(\"Enter number of rows: \"))\n",
        "x = 2*rows - 2\n",
        "for i in range(0, rows):\n",
        "  for j in range(0, x):\n",
        "    print(end= \" \")\n",
        "  x = x - 2\n",
        "  for j in range(0, i+1):\n",
        "    print(\"*\", end=\" \")\n",
        "  print(\"\\r\")"
      ],
      "execution_count": null,
      "outputs": [
        {
          "output_type": "stream",
          "name": "stdout",
          "text": [
            "Enter number of rows: 4\n",
            "      * \n",
            "    * * \n",
            "  * * * \n",
            "* * * * \n"
          ]
        }
      ]
    },
    {
      "cell_type": "code",
      "metadata": {
        "colab": {
          "base_uri": "https://localhost:8080/"
        },
        "id": "KHy0zS37MeA4",
        "outputId": "4ad6c6fa-721a-4c5d-fef6-f5a1dd813231"
      },
      "source": [
        "rows = int(input(\"Enter number of rows: \"))\n",
        "\n",
        "k = 2 * rows - 2\n",
        "for i in range(0, rows):\n",
        "    for j in range(0, k):\n",
        "        print(end=\" \")\n",
        "    k = k - 1\n",
        "    for j in range(0, i + 1):\n",
        "        print(\"* \", end=\"\")\n",
        "    print(\"\")\n",
        "    \n",
        "k = rows - 2\n",
        "\n",
        "for i in range(rows, -1, -1):\n",
        "    for j in range(k, 0, -1):\n",
        "        print(end=\" \")\n",
        "    k = k + 1\n",
        "    for j in range(0, i + 1):\n",
        "        print(\"* \", end=\"\")\n",
        "    print(\"\")\n"
      ],
      "execution_count": null,
      "outputs": [
        {
          "output_type": "stream",
          "name": "stdout",
          "text": [
            "Enter number of rows: 4\n",
            "      * \n",
            "     * * \n",
            "    * * * \n",
            "   * * * * \n",
            "  * * * * * \n",
            "   * * * * \n",
            "    * * * \n",
            "     * * \n",
            "      * \n"
          ]
        }
      ]
    },
    {
      "cell_type": "code",
      "metadata": {
        "colab": {
          "base_uri": "https://localhost:8080/"
        },
        "id": "dkf6AeGrNXd1",
        "outputId": "3ed03278-16e8-411c-e8c2-2a70195f5742"
      },
      "source": [
        "n=int(input(\"Enter the number till you want to check: \"))\n",
        "primes = []\n",
        "for i in range (2, n+1):\n",
        "    for j in range(2, i):\n",
        "        if i%j == 0:\n",
        "            break\n",
        "    else:\n",
        "        primes.append(i)\n",
        "print(n, \"->\", primes)"
      ],
      "execution_count": null,
      "outputs": [
        {
          "output_type": "stream",
          "name": "stdout",
          "text": [
            "Enter the number till you want to check: 20\n",
            "20 -> [2, 3, 5, 7, 11, 13, 17, 19]\n"
          ]
        }
      ]
    },
    {
      "cell_type": "code",
      "metadata": {
        "colab": {
          "base_uri": "https://localhost:8080/"
        },
        "id": "dTm1WuPFO24T",
        "outputId": "fc5ebc7c-61e7-4f3f-c2f9-1ed0f4af571b"
      },
      "source": [
        "rows = int(input(\"Enter number of rows: \"))\n",
        "\n",
        "i = 1\n",
        "while i <= rows:\n",
        "    j = rows\n",
        "    while j > i:\n",
        "        # display space\n",
        "        print(' ', end=' ')\n",
        "        j -= 1\n",
        "    print('*', end=' ')\n",
        "    k = 1\n",
        "    while k < 2 * (i - 1):\n",
        "        print(' ', end=' ')\n",
        "        k += 1\n",
        "    if i == 1:\n",
        "        print()\n",
        "    else:\n",
        "        print('*')\n",
        "    i += 1"
      ],
      "execution_count": null,
      "outputs": [
        {
          "output_type": "stream",
          "name": "stdout",
          "text": [
            "Enter number of rows: 3\n",
            "    * \n",
            "  *   *\n",
            "*       *\n"
          ]
        }
      ]
    },
    {
      "cell_type": "code",
      "metadata": {
        "colab": {
          "base_uri": "https://localhost:8080/"
        },
        "id": "c2mbS3tHPNsX",
        "outputId": "d7a18514-cf20-44b7-dba1-cc9b47150290"
      },
      "source": [
        "n = int(input('Enter the value of n: '))\n",
        "\n",
        "for i in range(1,2*n):\n",
        "    for j in range(1,2*n):\n",
        "        if i==j or i+j==2*n:\n",
        "            print('*', end='')\n",
        "        else:\n",
        "            print(' ', end='')\n",
        "    print()"
      ],
      "execution_count": null,
      "outputs": [
        {
          "output_type": "stream",
          "name": "stdout",
          "text": [
            "Enter the value of n: 4\n",
            "*     *\n",
            " *   * \n",
            "  * *  \n",
            "   *   \n",
            "  * *  \n",
            " *   * \n",
            "*     *\n"
          ]
        }
      ]
    },
    {
      "cell_type": "code",
      "metadata": {
        "colab": {
          "base_uri": "https://localhost:8080/"
        },
        "id": "q9YXVYG3Sryw",
        "outputId": "9949ff77-ff70-4cca-9ddd-4a81de3d15a6"
      },
      "source": [
        "rows = int(input(\"Enter number of rows: \"))\n",
        "\n",
        "for i in range(0, rows):\n",
        "    for j in range(rows - 1, i, -1):\n",
        "        print(\"A\", end='')\n",
        "    print(\"+\", end='')\n",
        "    for l in range(i):\n",
        "        if l==i-1: \n",
        "          print('E'*(2*l+1), end='')\n",
        "          print('+', end='')\n",
        "    for k in range(i + 1, rows):\n",
        "        print(\"B\", end='')\n",
        "    print('\\n')\n",
        "\n",
        "for i in range(1,rows):\n",
        "  for j in range(i):\n",
        "    print('C', end='')\n",
        "  print('+', end='')\n",
        "  for l in range(rows-1,i,-1):\n",
        "    print('E', end='')\n",
        "    # if l==0: print(\"+\", end='')\n",
        "  for l in range(i+1,rows):\n",
        "    if l != rows-1:\n",
        "        print('E', end='')\n",
        "    if l == rows-1: \n",
        "        print('+', end='')\n",
        "  for k in range(i):\n",
        "    print('D', end='')\n",
        "  print('\\n')"
      ],
      "execution_count": null,
      "outputs": [
        {
          "output_type": "stream",
          "name": "stdout",
          "text": [
            "Enter number of rows: 7\n",
            "AAAAAA+BBBBBB\n",
            "\n",
            "AAAAA+E+BBBBB\n",
            "\n",
            "AAAA+EEE+BBBB\n",
            "\n",
            "AAA+EEEEE+BBB\n",
            "\n",
            "AA+EEEEEEE+BB\n",
            "\n",
            "A+EEEEEEEEE+B\n",
            "\n",
            "+EEEEEEEEEEE+\n",
            "\n",
            "C+EEEEEEEEE+D\n",
            "\n",
            "CC+EEEEEEE+DD\n",
            "\n",
            "CCC+EEEEE+DDD\n",
            "\n",
            "CCCC+EEE+DDDD\n",
            "\n",
            "CCCCC+E+DDDDD\n",
            "\n",
            "CCCCCC+DDDDDD\n",
            "\n"
          ]
        }
      ]
    },
    {
      "cell_type": "code",
      "metadata": {
        "id": "s6rg2VQ-TH2f"
      },
      "source": [
        ""
      ],
      "execution_count": null,
      "outputs": []
    }
  ]
}